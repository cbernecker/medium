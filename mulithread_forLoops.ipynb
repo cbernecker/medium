{
 "cells": [
  {
   "cell_type": "markdown",
   "metadata": {},
   "source": [
    "# Make For Loops 10x Faster with Multithreading\n",
    "Let's start with an example. We will fake and simulate a time-consuming task. We will use a Python script that processes a list of numbers by squaring each number using a for loop:. This script processes each number in the list sequentially, taking 1 second per number due to the `time.sleep(1)` call in the `square_number` function. Total execution takes 10.1 seconds."
   ]
  },
  {
   "cell_type": "code",
   "execution_count": 1,
   "metadata": {},
   "outputs": [
    {
     "name": "stdout",
     "output_type": "stream",
     "text": [
      "Squared numbers: [1, 4, 9, 16, 25, 36, 49, 64, 81, 100]\n",
      "Time taken: 10.087681770324707 seconds\n"
     ]
    }
   ],
   "source": [
    "import time\n",
    "\n",
    "# List of numbers to process\n",
    "numbers = [1, 2, 3, 4, 5, 6, 7, 8, 9, 10]\n",
    "\n",
    "# Function to square a number\n",
    "def square_number(number):\n",
    "    time.sleep(1)  # Simulate a time-consuming task\n",
    "    return number * number\n",
    "\n",
    "# Using a for loop to process each number\n",
    "squared_numbers = []\n",
    "start_time = time.time()\n",
    "for number in numbers:\n",
    "    squared_numbers.append(square_number(number))\n",
    "\n",
    "end_time = time.time()\n",
    "\n",
    "print(\"Squared numbers:\", squared_numbers)\n",
    "print(\"Time taken:\", end_time - start_time, \"seconds\")"
   ]
  },
  {
   "cell_type": "markdown",
   "metadata": {},
   "source": [
    "# Example Optimize Multithreading\n",
    "Next, we'll optimize this with a multithreading approach to improve the processing time. To optimize the above example using multithreading, we can use Python's concurrent.futures module, which provides a high-level interface for asynchronously executing callables. In this optimized script, we use `ThreadPoolExecutor` to create a pool of threads. The `executor.map` function distributes the `square_number` function across the threads, processing the numbers in parallel. By setting `max_workers` to 5, we allow up to 5 threads to run concurrently, which should significantly reduce the total processing time."
   ]
  },
  {
   "cell_type": "code",
   "execution_count": 2,
   "metadata": {},
   "outputs": [
    {
     "name": "stdout",
     "output_type": "stream",
     "text": [
      "Squared numbers: [1, 4, 9, 16, 25, 36, 49, 64, 81, 100]\n",
      "Time taken: 1.020650863647461 seconds\n"
     ]
    }
   ],
   "source": [
    "import time\n",
    "from concurrent.futures import ThreadPoolExecutor\n",
    "\n",
    "# List of numbers to process\n",
    "numbers = [1, 2, 3, 4, 5, 6, 7, 8, 9, 10]\n",
    "\n",
    "# Function to square a number\n",
    "def square_number(number):\n",
    "    time.sleep(1)  # Simulate a time-consuming task\n",
    "    return number * number\n",
    "\n",
    "# Using ThreadPoolExecutor for multithreading\n",
    "squared_numbers = []\n",
    "start_time = time.time()\n",
    "\n",
    "with ThreadPoolExecutor(max_workers=10) as executor:\n",
    "    results = executor.map(square_number, numbers)\n",
    "\n",
    "# Collect the results\n",
    "squared_numbers = list(results)\n",
    "\n",
    "end_time = time.time()\n",
    "\n",
    "print(\"Squared numbers:\", squared_numbers)\n",
    "print(\"Time taken:\", end_time - start_time, \"seconds\")"
   ]
  },
  {
   "cell_type": "markdown",
   "metadata": {},
   "source": [
    "# Pro Tip - Use Decorators\n",
    "Decorators can be used to add multithreading to functions in a more elegant and reusable way. A decorator is a function that takes another function and extends its behavior without explicitly modifying it."
   ]
  },
  {
   "cell_type": "code",
   "execution_count": 3,
   "metadata": {},
   "outputs": [
    {
     "name": "stdout",
     "output_type": "stream",
     "text": [
      "Squared numbers: [4, 1, 25, 9, 16, 49, 36, 64, 81, 100]\n",
      "Time taken: 2.01415753364563 seconds\n"
     ]
    }
   ],
   "source": [
    "import time\n",
    "from concurrent.futures import ThreadPoolExecutor, as_completed\n",
    "\n",
    "# Decorator to add multithreading\n",
    "def multithreaded(max_workers=5):\n",
    "    def decorator(func):\n",
    "        def wrapper(*args, **kwargs):\n",
    "            with ThreadPoolExecutor(max_workers=max_workers) as executor:\n",
    "                future_to_args = {executor.submit(func, arg): arg for arg in args[0]}\n",
    "                results = []\n",
    "                for future in as_completed(future_to_args):\n",
    "                    arg = future_to_args[future]\n",
    "                    try:\n",
    "                        result = future.result()\n",
    "                    except Exception as exc:\n",
    "                        print(f'{arg} generated an exception: {exc}')\n",
    "                    else:\n",
    "                        results.append(result)\n",
    "                return results\n",
    "        return wrapper\n",
    "    return decorator\n",
    "\n",
    "# Function to square a number\n",
    "@multithreaded(max_workers=5)\n",
    "def square_number(number):\n",
    "    time.sleep(1)  # Simulate a time-consuming task\n",
    "    return number * number\n",
    "\n",
    "# List of numbers to process\n",
    "numbers = [1, 2, 3, 4, 5, 6, 7, 8, 9, 10]\n",
    "\n",
    "# Using the decorated function\n",
    "start_time = time.time()\n",
    "squared_numbers = square_number(numbers)\n",
    "end_time = time.time()\n",
    "\n",
    "print(\"Squared numbers:\", squared_numbers)\n",
    "print(\"Time taken:\", end_time - start_time, \"seconds\")"
   ]
  }
 ],
 "metadata": {
  "kernelspec": {
   "display_name": ".venv",
   "language": "python",
   "name": "undefined.-xfrozen_modules=off"
  },
  "orig_nbformat": 4
 },
 "nbformat": 4,
 "nbformat_minor": 2
}
